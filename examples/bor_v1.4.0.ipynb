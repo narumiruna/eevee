{
 "cells": [
  {
   "cell_type": "code",
   "execution_count": 3,
   "metadata": {},
   "outputs": [],
   "source": [
    "import httpx\n",
    "from dotenv import find_dotenv\n",
    "from dotenv import load_dotenv\n",
    "from markdownify import markdownify as md\n",
    "from rich import print\n",
    "\n",
    "from eevee.hardfork import predict_hardfork"
   ]
  },
  {
   "cell_type": "code",
   "execution_count": 4,
   "metadata": {},
   "outputs": [
    {
     "data": {
      "text/html": [
       "<pre style=\"white-space:pre;overflow-x:auto;line-height:normal;font-family:Menlo,'DejaVu Sans Mono',consolas,'Courier New',monospace\">- 🔴 Hardfork: <span style=\"color: #00ff00; text-decoration-color: #00ff00; font-style: italic\">True</span>\n",
       "- 📊 Confidence: <span style=\"color: #008080; text-decoration-color: #008080; font-weight: bold\">95.0</span>%\n",
       "- 📝 Explanation: 此版本包含名為Ahmedabad的硬分叉，並要求在特定區塊號之前升級主網節點，因此這是一個硬分叉。\n",
       "- 🔢 Block Number: <span style=\"color: #008080; text-decoration-color: #008080; font-weight: bold\">62278656</span>\n",
       "- ⬆️ Must Upgrade: <span style=\"color: #00ff00; text-decoration-color: #00ff00; font-style: italic\">True</span>\n",
       "- 🌐 Testnet Names: \n",
       "- 📅 Upgrade Deadline: <span style=\"color: #008080; text-decoration-color: #008080; font-weight: bold\">2024</span>-<span style=\"color: #008080; text-decoration-color: #008080; font-weight: bold\">09</span>-26T<span style=\"color: #00ff00; text-decoration-color: #00ff00; font-weight: bold\">09:00:00</span>Z\n",
       "</pre>\n"
      ],
      "text/plain": [
       "- 🔴 Hardfork: \u001b[3;92mTrue\u001b[0m\n",
       "- 📊 Confidence: \u001b[1;36m95.0\u001b[0m%\n",
       "- 📝 Explanation: 此版本包含名為Ahmedabad的硬分叉，並要求在特定區塊號之前升級主網節點，因此這是一個硬分叉。\n",
       "- 🔢 Block Number: \u001b[1;36m62278656\u001b[0m\n",
       "- ⬆️ Must Upgrade: \u001b[3;92mTrue\u001b[0m\n",
       "- 🌐 Testnet Names: \n",
       "- 📅 Upgrade Deadline: \u001b[1;36m2024\u001b[0m-\u001b[1;36m09\u001b[0m-26T\u001b[1;92m09:00:00\u001b[0mZ\n"
      ]
     },
     "metadata": {},
     "output_type": "display_data"
    }
   ],
   "source": [
    "load_dotenv(find_dotenv())\n",
    "\n",
    "url = \"https://github.com/maticnetwork/bor/releases/tag/v1.4.0\"\n",
    "\n",
    "resp = httpx.get(url)\n",
    "resp.raise_for_status()\n",
    "\n",
    "markdown_content = md(resp.text, strip=[\"a\", \"img\"])\n",
    "\n",
    "hardfork = predict_hardfork(markdown_content)\n",
    "print(hardfork.to_markdown())"
   ]
  }
 ],
 "metadata": {
  "kernelspec": {
   "display_name": ".venv",
   "language": "python",
   "name": "python3"
  },
  "language_info": {
   "codemirror_mode": {
    "name": "ipython",
    "version": 3
   },
   "file_extension": ".py",
   "mimetype": "text/x-python",
   "name": "python",
   "nbconvert_exporter": "python",
   "pygments_lexer": "ipython3",
   "version": "3.12.7"
  }
 },
 "nbformat": 4,
 "nbformat_minor": 2
}
